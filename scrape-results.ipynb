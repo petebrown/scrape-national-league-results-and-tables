{
 "cells": [
  {
   "cell_type": "code",
   "execution_count": 4,
   "metadata": {},
   "outputs": [],
   "source": [
    "from playwright.async_api import async_playwright\n",
    "from bs4 import BeautifulSoup\n",
    "import pandas as pd\n",
    "\n",
    "async def main(season):\n",
    "    async with async_playwright() as p:\n",
    "        browser = await p.chromium.launch()\n",
    "        page = await browser.new_page()\n",
    "        await page.goto(f\"https://www.flashscore.com/football/england/national-league-{season}-{season+1}/results/\")\n",
    "\n",
    "        # Keep clicking \"Show more matches\" until it disappears\n",
    "        while True:\n",
    "            try:\n",
    "                show_more_button = await page.query_selector(\".event__more--static\")\n",
    "                if show_more_button:\n",
    "                    await show_more_button.click()\n",
    "                    await page.wait_for_timeout(5000)  # Wait for new content to load\n",
    "                else:\n",
    "                    break\n",
    "            except:\n",
    "                # Handle potential errors during button click or waiting\n",
    "                print(f\"Error clicking 'Show more matches' in {season}\")\n",
    "                pass\n",
    "\n",
    "        # Capture the page HTML\n",
    "        html = await page.content()\n",
    "\n",
    "        await browser.close()\n",
    "        return html"
   ]
  },
  {
   "cell_type": "code",
   "execution_count": 5,
   "metadata": {},
   "outputs": [],
   "source": [
    "def scrape_matches(html, season):\n",
    "    soup = BeautifulSoup(html, 'lxml')\n",
    "\n",
    "    matches = soup.find_all(\"div\", class_=\"event__match\")\n",
    "\n",
    "    match_records = []\n",
    "\n",
    "    for match in matches:\n",
    "        home_team = match.find(\"div\", class_=\"event__participant--home\").text\n",
    "        away_team = match.find(\"div\", class_=\"event__participant--away\").text\n",
    "\n",
    "        home_score = match.find(\"div\", class_=\"event__score--home\").text\n",
    "        away_score = match.find(\"div\", class_=\"event__score--away\").text\n",
    "\n",
    "        game_date = match.find(\"div\", class_=\"event__time\").text\n",
    "        day = game_date.split(\".\")[0]\n",
    "        month = game_date.split(\".\")[1]\n",
    "        if int(month) >= 8:\n",
    "            year = season\n",
    "        else:\n",
    "            year = season + 1\n",
    "\n",
    "        match_record = {\n",
    "            \"home_team\": home_team,\n",
    "            \"away_team\": away_team,\n",
    "            \"home_score\": home_score,\n",
    "            \"away_score\": away_score,\n",
    "            \"year\": year,\n",
    "            \"month\": month,\n",
    "            \"day\": day,\n",
    "            \"game_date\": game_date\n",
    "        }\n",
    "        match_records.append(match_record)\n",
    "    return match_records"
   ]
  },
  {
   "cell_type": "code",
   "execution_count": 6,
   "metadata": {},
   "outputs": [
    {
     "name": "stdout",
     "output_type": "stream",
     "text": [
      "Saved 557 matches for season 2015-2016\n",
      "Saved 557 matches for season 2016-2017\n",
      "Saved 557 matches for season 2017-2018\n"
     ]
    }
   ],
   "source": [
    "for season in range(2015, 2018):\n",
    "    html = await main(season)\n",
    "    match_records = scrape_matches(html, season)\n",
    "    df = pd.DataFrame(match_records)\n",
    "    df[\"date\"] = pd.to_datetime(df[[\"year\", \"month\", \"day\"]])\n",
    "    df.to_csv(f\"national_league_{season}_{season+1}.csv\", index=False)\n",
    "    print(f\"Saved {len(df)} matches for season {season}-{season+1}\")"
   ]
  },
  {
   "cell_type": "code",
   "execution_count": null,
   "metadata": {},
   "outputs": [],
   "source": []
  }
 ],
 "metadata": {
  "kernelspec": {
   "display_name": "Python 3",
   "language": "python",
   "name": "python3"
  },
  "language_info": {
   "codemirror_mode": {
    "name": "ipython",
    "version": 3
   },
   "file_extension": ".py",
   "mimetype": "text/x-python",
   "name": "python",
   "nbconvert_exporter": "python",
   "pygments_lexer": "ipython3",
   "version": "3.12.1"
  }
 },
 "nbformat": 4,
 "nbformat_minor": 2
}
